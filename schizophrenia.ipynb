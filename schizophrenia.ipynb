{
 "cells": [
  {
   "cell_type": "code",
   "execution_count": 1,
   "metadata": {
    "_cell_guid": "b1076dfc-b9ad-4769-8c92-a6c4dae69d19",
    "_uuid": "8f2839f25d086af736a60e9eeb907d3b93b6e0e5",
    "execution": {
     "iopub.execute_input": "2023-04-15T04:56:08.519138Z",
     "iopub.status.busy": "2023-04-15T04:56:08.518208Z",
     "iopub.status.idle": "2023-04-15T04:56:08.759707Z",
     "shell.execute_reply": "2023-04-15T04:56:08.758662Z",
     "shell.execute_reply.started": "2023-04-15T04:56:08.519036Z"
    }
   },
   "outputs": [
    {
     "name": "stdout",
     "output_type": "stream",
     "text": [
      "/kaggle/input/schizophrenia-dataset/archive (1)/42.csv/42.csv\n",
      "/kaggle/input/schizophrenia-dataset/archive (1)/55.csv/55.csv\n",
      "/kaggle/input/schizophrenia-dataset/archive (1)/33.csv/33.csv\n",
      "/kaggle/input/schizophrenia-dataset/archive (1)/59.csv/59.csv\n",
      "/kaggle/input/schizophrenia-dataset/archive (1)/56.csv/56.csv\n",
      "/kaggle/input/schizophrenia-dataset/archive (1)/30.csv/30.csv\n",
      "/kaggle/input/schizophrenia-dataset/archive (1)/36.csv/36.csv\n",
      "/kaggle/input/schizophrenia-dataset/archive (1)/51.csv/51.csv\n",
      "/kaggle/input/schizophrenia-dataset/archive (1)/38.csv/38.csv\n",
      "/kaggle/input/schizophrenia-dataset/archive (1)/31.csv/31.csv\n",
      "/kaggle/input/schizophrenia-dataset/archive (1)/35.csv/35.csv\n",
      "/kaggle/input/schizophrenia-dataset/archive (1)/41.csv/41.csv\n",
      "/kaggle/input/schizophrenia-dataset/archive (1)/45.csv/45.csv\n",
      "/kaggle/input/schizophrenia-dataset/archive (1)/26.csv/26.csv\n",
      "/kaggle/input/schizophrenia-dataset/archive (1)/28.csv/28.csv\n",
      "/kaggle/input/schizophrenia-dataset/archive (1)/43.csv/43.csv\n",
      "/kaggle/input/schizophrenia-dataset/archive (1)/52.csv/52.csv\n",
      "/kaggle/input/schizophrenia-dataset/archive (1)/57.csv/57.csv\n",
      "/kaggle/input/schizophrenia-dataset/archive (1)/40.csv/40.csv\n",
      "/kaggle/input/schizophrenia-dataset/archive (1)/65.csv/65.csv\n",
      "/kaggle/input/schizophrenia-dataset/archive (1)/44.csv/44.csv\n",
      "/kaggle/input/schizophrenia-dataset/archive (1)/58.csv/58.csv\n",
      "/kaggle/input/schizophrenia-dataset/archive (1)/61.csv/61.csv\n",
      "/kaggle/input/schizophrenia-dataset/archive (1)/50.csv/50.csv\n",
      "/kaggle/input/schizophrenia-dataset/archive (1)/39.csv/39.csv\n",
      "/kaggle/input/schizophrenia-dataset/archive (1)/62.csv/62.csv\n",
      "/kaggle/input/schizophrenia-dataset/archive (1)/54.csv/54.csv\n",
      "/kaggle/input/schizophrenia-dataset/archive (1)/49.csv/49.csv\n",
      "/kaggle/input/schizophrenia-dataset/archive (1)/47.csv/47.csv\n",
      "/kaggle/input/schizophrenia-dataset/archive (1)/37.csv/37.csv\n",
      "/kaggle/input/schizophrenia-dataset/archive (1)/64.csv/64.csv\n",
      "/kaggle/input/schizophrenia-dataset/archive (1)/25.csv/25.csv\n",
      "/kaggle/input/schizophrenia-dataset/archive (1)/29.csv/29.csv\n",
      "/kaggle/input/schizophrenia-dataset/archive (1)/60.csv/60.csv\n",
      "/kaggle/input/schizophrenia-dataset/archive (1)/32.csv/32.csv\n",
      "/kaggle/input/schizophrenia-dataset/archive (1)/34.csv/34.csv\n",
      "/kaggle/input/schizophrenia-dataset/archive (1)/27.csv/27.csv\n",
      "/kaggle/input/schizophrenia-dataset/archive (1)/48.csv/48.csv\n",
      "/kaggle/input/schizophrenia-dataset/archive (1)/63.csv/63.csv\n",
      "/kaggle/input/schizophrenia-dataset/archive (1)/53.csv/53.csv\n",
      "/kaggle/input/schizophrenia-dataset/archive (1)/46.csv/46.csv\n",
      "/kaggle/input/schizophrenia-dataset/archive/columnLabels.csv\n",
      "/kaggle/input/schizophrenia-dataset/archive/ERPdata.csv\n",
      "/kaggle/input/schizophrenia-dataset/archive/demographic.csv\n",
      "/kaggle/input/schizophrenia-dataset/archive/time.csv\n",
      "/kaggle/input/schizophrenia-dataset/archive/mergedTrialData.csv\n",
      "/kaggle/input/schizophrenia-dataset/archive/18.csv/18.csv\n",
      "/kaggle/input/schizophrenia-dataset/archive/20.csv/20.csv\n",
      "/kaggle/input/schizophrenia-dataset/archive/71.csv/71.csv\n",
      "/kaggle/input/schizophrenia-dataset/archive/74.csv/74.csv\n",
      "/kaggle/input/schizophrenia-dataset/archive/1.csv/1.csv\n",
      "/kaggle/input/schizophrenia-dataset/archive/24.csv/24.csv\n",
      "/kaggle/input/schizophrenia-dataset/archive/78.csv/78.csv\n",
      "/kaggle/input/schizophrenia-dataset/archive/75.csv/75.csv\n",
      "/kaggle/input/schizophrenia-dataset/archive/11.csv/11.csv\n",
      "/kaggle/input/schizophrenia-dataset/archive/17.csv/17.csv\n",
      "/kaggle/input/schizophrenia-dataset/archive/77.csv/77.csv\n",
      "/kaggle/input/schizophrenia-dataset/archive/16.csv/16.csv\n",
      "/kaggle/input/schizophrenia-dataset/archive/68.csv/68.csv\n",
      "/kaggle/input/schizophrenia-dataset/archive/3.csv/3.csv\n",
      "/kaggle/input/schizophrenia-dataset/archive/19.csv/19.csv\n",
      "/kaggle/input/schizophrenia-dataset/archive/73.csv/73.csv\n",
      "/kaggle/input/schizophrenia-dataset/archive/5.csv/5.csv\n",
      "/kaggle/input/schizophrenia-dataset/archive/2.csv/2.csv\n",
      "/kaggle/input/schizophrenia-dataset/archive/13.csv/13.csv\n",
      "/kaggle/input/schizophrenia-dataset/archive/23.csv/23.csv\n",
      "/kaggle/input/schizophrenia-dataset/archive/14.csv/14.csv\n",
      "/kaggle/input/schizophrenia-dataset/archive/4.csv/4.csv\n",
      "/kaggle/input/schizophrenia-dataset/archive/22.csv/22.csv\n",
      "/kaggle/input/schizophrenia-dataset/archive/67.csv/67.csv\n",
      "/kaggle/input/schizophrenia-dataset/archive/80.csv/80.csv\n",
      "/kaggle/input/schizophrenia-dataset/archive/8.csv/8.csv\n",
      "/kaggle/input/schizophrenia-dataset/archive/12.csv/12.csv\n",
      "/kaggle/input/schizophrenia-dataset/archive/79.csv/79.csv\n",
      "/kaggle/input/schizophrenia-dataset/archive/9.csv/9.csv\n",
      "/kaggle/input/schizophrenia-dataset/archive/66.csv/66.csv\n",
      "/kaggle/input/schizophrenia-dataset/archive/7.csv/7.csv\n",
      "/kaggle/input/schizophrenia-dataset/archive/76.csv/76.csv\n",
      "/kaggle/input/schizophrenia-dataset/archive/72.csv/72.csv\n",
      "/kaggle/input/schizophrenia-dataset/archive/15.csv/15.csv\n",
      "/kaggle/input/schizophrenia-dataset/archive/81.csv/81.csv\n",
      "/kaggle/input/schizophrenia-dataset/archive/6.csv/6.csv\n",
      "/kaggle/input/schizophrenia-dataset/archive/10.csv/10.csv\n",
      "/kaggle/input/schizophrenia-dataset/archive/70.csv/70.csv\n",
      "/kaggle/input/schizophrenia-dataset/archive/21.csv/21.csv\n",
      "/kaggle/input/schizophrenia-dataset/archive/69.csv/69.csv\n"
     ]
    }
   ],
   "source": [
    "import numpy as np\n",
    "import pandas as pd\n",
    "import os\n",
    "for dirname, _, filenames in os.walk('/kaggle/input'):\n",
    "    for filename in filenames:\n",
    "        print(os.path.join(dirname, filename))"
   ]
  },
  {
   "cell_type": "code",
   "execution_count": 2,
   "metadata": {
    "execution": {
     "iopub.execute_input": "2023-04-15T04:56:27.466382Z",
     "iopub.status.busy": "2023-04-15T04:56:27.465975Z",
     "iopub.status.idle": "2023-04-15T04:56:28.051214Z",
     "shell.execute_reply": "2023-04-15T04:56:28.050172Z",
     "shell.execute_reply.started": "2023-04-15T04:56:27.466350Z"
    }
   },
   "outputs": [],
   "source": [
    "import os\n",
    "import time\n",
    "import numpy as np\n",
    "import pandas as pd\n",
    "from tqdm.notebook import tqdm\n",
    "import matplotlib.pyplot as plt\n",
    "from sklearn.model_selection import train_test_split\n",
    "from sklearn.preprocessing import normalize\n",
    "from sklearn.metrics import confusion_matrix"
   ]
  },
  {
   "cell_type": "code",
   "execution_count": 3,
   "metadata": {
    "execution": {
     "iopub.execute_input": "2023-04-15T04:56:31.564356Z",
     "iopub.status.busy": "2023-04-15T04:56:31.563966Z",
     "iopub.status.idle": "2023-04-15T04:56:31.635444Z",
     "shell.execute_reply": "2023-04-15T04:56:31.634269Z",
     "shell.execute_reply.started": "2023-04-15T04:56:31.564324Z"
    }
   },
   "outputs": [
    {
     "name": "stdout",
     "output_type": "stream",
     "text": [
      "/kaggle/input/schizophrenia-dataset/archive (1)/42.csv/42.csv\n",
      "/kaggle/input/schizophrenia-dataset/archive (1)/55.csv/55.csv\n",
      "/kaggle/input/schizophrenia-dataset/archive (1)/33.csv/33.csv\n",
      "/kaggle/input/schizophrenia-dataset/archive (1)/59.csv/59.csv\n",
      "/kaggle/input/schizophrenia-dataset/archive (1)/56.csv/56.csv\n",
      "/kaggle/input/schizophrenia-dataset/archive (1)/30.csv/30.csv\n",
      "/kaggle/input/schizophrenia-dataset/archive (1)/36.csv/36.csv\n",
      "/kaggle/input/schizophrenia-dataset/archive (1)/51.csv/51.csv\n",
      "/kaggle/input/schizophrenia-dataset/archive (1)/38.csv/38.csv\n",
      "/kaggle/input/schizophrenia-dataset/archive (1)/31.csv/31.csv\n",
      "/kaggle/input/schizophrenia-dataset/archive (1)/35.csv/35.csv\n",
      "/kaggle/input/schizophrenia-dataset/archive (1)/41.csv/41.csv\n",
      "/kaggle/input/schizophrenia-dataset/archive (1)/45.csv/45.csv\n",
      "/kaggle/input/schizophrenia-dataset/archive (1)/26.csv/26.csv\n",
      "/kaggle/input/schizophrenia-dataset/archive (1)/28.csv/28.csv\n",
      "/kaggle/input/schizophrenia-dataset/archive (1)/43.csv/43.csv\n",
      "/kaggle/input/schizophrenia-dataset/archive (1)/52.csv/52.csv\n",
      "/kaggle/input/schizophrenia-dataset/archive (1)/57.csv/57.csv\n",
      "/kaggle/input/schizophrenia-dataset/archive (1)/40.csv/40.csv\n",
      "/kaggle/input/schizophrenia-dataset/archive (1)/65.csv/65.csv\n",
      "/kaggle/input/schizophrenia-dataset/archive (1)/44.csv/44.csv\n",
      "/kaggle/input/schizophrenia-dataset/archive (1)/58.csv/58.csv\n",
      "/kaggle/input/schizophrenia-dataset/archive (1)/61.csv/61.csv\n",
      "/kaggle/input/schizophrenia-dataset/archive (1)/50.csv/50.csv\n",
      "/kaggle/input/schizophrenia-dataset/archive (1)/39.csv/39.csv\n",
      "/kaggle/input/schizophrenia-dataset/archive (1)/62.csv/62.csv\n",
      "/kaggle/input/schizophrenia-dataset/archive (1)/54.csv/54.csv\n",
      "/kaggle/input/schizophrenia-dataset/archive (1)/49.csv/49.csv\n",
      "/kaggle/input/schizophrenia-dataset/archive (1)/47.csv/47.csv\n",
      "/kaggle/input/schizophrenia-dataset/archive (1)/37.csv/37.csv\n",
      "/kaggle/input/schizophrenia-dataset/archive (1)/64.csv/64.csv\n",
      "/kaggle/input/schizophrenia-dataset/archive (1)/25.csv/25.csv\n",
      "/kaggle/input/schizophrenia-dataset/archive (1)/29.csv/29.csv\n",
      "/kaggle/input/schizophrenia-dataset/archive (1)/60.csv/60.csv\n",
      "/kaggle/input/schizophrenia-dataset/archive (1)/32.csv/32.csv\n",
      "/kaggle/input/schizophrenia-dataset/archive (1)/34.csv/34.csv\n",
      "/kaggle/input/schizophrenia-dataset/archive (1)/27.csv/27.csv\n",
      "/kaggle/input/schizophrenia-dataset/archive (1)/48.csv/48.csv\n",
      "/kaggle/input/schizophrenia-dataset/archive (1)/63.csv/63.csv\n",
      "/kaggle/input/schizophrenia-dataset/archive (1)/53.csv/53.csv\n",
      "/kaggle/input/schizophrenia-dataset/archive (1)/46.csv/46.csv\n",
      "/kaggle/input/schizophrenia-dataset/archive/columnLabels.csv\n",
      "/kaggle/input/schizophrenia-dataset/archive/ERPdata.csv\n",
      "/kaggle/input/schizophrenia-dataset/archive/demographic.csv\n",
      "/kaggle/input/schizophrenia-dataset/archive/time.csv\n",
      "/kaggle/input/schizophrenia-dataset/archive/mergedTrialData.csv\n",
      "/kaggle/input/schizophrenia-dataset/archive/18.csv/18.csv\n",
      "/kaggle/input/schizophrenia-dataset/archive/20.csv/20.csv\n",
      "/kaggle/input/schizophrenia-dataset/archive/71.csv/71.csv\n",
      "/kaggle/input/schizophrenia-dataset/archive/74.csv/74.csv\n",
      "/kaggle/input/schizophrenia-dataset/archive/1.csv/1.csv\n",
      "/kaggle/input/schizophrenia-dataset/archive/24.csv/24.csv\n",
      "/kaggle/input/schizophrenia-dataset/archive/78.csv/78.csv\n",
      "/kaggle/input/schizophrenia-dataset/archive/75.csv/75.csv\n",
      "/kaggle/input/schizophrenia-dataset/archive/11.csv/11.csv\n",
      "/kaggle/input/schizophrenia-dataset/archive/17.csv/17.csv\n",
      "/kaggle/input/schizophrenia-dataset/archive/77.csv/77.csv\n",
      "/kaggle/input/schizophrenia-dataset/archive/16.csv/16.csv\n",
      "/kaggle/input/schizophrenia-dataset/archive/68.csv/68.csv\n",
      "/kaggle/input/schizophrenia-dataset/archive/3.csv/3.csv\n",
      "/kaggle/input/schizophrenia-dataset/archive/19.csv/19.csv\n",
      "/kaggle/input/schizophrenia-dataset/archive/73.csv/73.csv\n",
      "/kaggle/input/schizophrenia-dataset/archive/5.csv/5.csv\n",
      "/kaggle/input/schizophrenia-dataset/archive/2.csv/2.csv\n",
      "/kaggle/input/schizophrenia-dataset/archive/13.csv/13.csv\n",
      "/kaggle/input/schizophrenia-dataset/archive/23.csv/23.csv\n",
      "/kaggle/input/schizophrenia-dataset/archive/14.csv/14.csv\n",
      "/kaggle/input/schizophrenia-dataset/archive/4.csv/4.csv\n",
      "/kaggle/input/schizophrenia-dataset/archive/22.csv/22.csv\n",
      "/kaggle/input/schizophrenia-dataset/archive/67.csv/67.csv\n",
      "/kaggle/input/schizophrenia-dataset/archive/80.csv/80.csv\n",
      "/kaggle/input/schizophrenia-dataset/archive/8.csv/8.csv\n",
      "/kaggle/input/schizophrenia-dataset/archive/12.csv/12.csv\n",
      "/kaggle/input/schizophrenia-dataset/archive/79.csv/79.csv\n",
      "/kaggle/input/schizophrenia-dataset/archive/9.csv/9.csv\n",
      "/kaggle/input/schizophrenia-dataset/archive/66.csv/66.csv\n",
      "/kaggle/input/schizophrenia-dataset/archive/7.csv/7.csv\n",
      "/kaggle/input/schizophrenia-dataset/archive/76.csv/76.csv\n",
      "/kaggle/input/schizophrenia-dataset/archive/72.csv/72.csv\n",
      "/kaggle/input/schizophrenia-dataset/archive/15.csv/15.csv\n",
      "/kaggle/input/schizophrenia-dataset/archive/81.csv/81.csv\n",
      "/kaggle/input/schizophrenia-dataset/archive/6.csv/6.csv\n",
      "/kaggle/input/schizophrenia-dataset/archive/10.csv/10.csv\n",
      "/kaggle/input/schizophrenia-dataset/archive/70.csv/70.csv\n",
      "/kaggle/input/schizophrenia-dataset/archive/21.csv/21.csv\n",
      "/kaggle/input/schizophrenia-dataset/archive/69.csv/69.csv\n"
     ]
    }
   ],
   "source": [
    "for dirname, _, filenames in os.walk('/kaggle/input'):\n",
    "    for filename in filenames:\n",
    "        print(os.path.join(dirname, filename))"
   ]
  },
  {
   "cell_type": "code",
   "execution_count": 4,
   "metadata": {
    "execution": {
     "iopub.execute_input": "2023-04-15T04:56:36.232766Z",
     "iopub.status.busy": "2023-04-15T04:56:36.232378Z",
     "iopub.status.idle": "2023-04-15T04:56:36.267347Z",
     "shell.execute_reply": "2023-04-15T04:56:36.266293Z",
     "shell.execute_reply.started": "2023-04-15T04:56:36.232734Z"
    }
   },
   "outputs": [
    {
     "data": {
      "text/html": [
       "<div>\n",
       "<style scoped>\n",
       "    .dataframe tbody tr th:only-of-type {\n",
       "        vertical-align: middle;\n",
       "    }\n",
       "\n",
       "    .dataframe tbody tr th {\n",
       "        vertical-align: top;\n",
       "    }\n",
       "\n",
       "    .dataframe thead th {\n",
       "        text-align: right;\n",
       "    }\n",
       "</style>\n",
       "<table border=\"1\" class=\"dataframe\">\n",
       "  <thead>\n",
       "    <tr style=\"text-align: right;\">\n",
       "      <th></th>\n",
       "      <th>subject</th>\n",
       "      <th>group</th>\n",
       "      <th>gender</th>\n",
       "      <th>age</th>\n",
       "      <th>education</th>\n",
       "    </tr>\n",
       "  </thead>\n",
       "  <tbody>\n",
       "    <tr>\n",
       "      <th>0</th>\n",
       "      <td>1</td>\n",
       "      <td>0</td>\n",
       "      <td>M</td>\n",
       "      <td>44</td>\n",
       "      <td>16.0</td>\n",
       "    </tr>\n",
       "    <tr>\n",
       "      <th>1</th>\n",
       "      <td>2</td>\n",
       "      <td>0</td>\n",
       "      <td>M</td>\n",
       "      <td>39</td>\n",
       "      <td>17.0</td>\n",
       "    </tr>\n",
       "    <tr>\n",
       "      <th>2</th>\n",
       "      <td>3</td>\n",
       "      <td>0</td>\n",
       "      <td>M</td>\n",
       "      <td>53</td>\n",
       "      <td>18.0</td>\n",
       "    </tr>\n",
       "    <tr>\n",
       "      <th>3</th>\n",
       "      <td>4</td>\n",
       "      <td>0</td>\n",
       "      <td>M</td>\n",
       "      <td>52</td>\n",
       "      <td>15.0</td>\n",
       "    </tr>\n",
       "    <tr>\n",
       "      <th>4</th>\n",
       "      <td>5</td>\n",
       "      <td>0</td>\n",
       "      <td>M</td>\n",
       "      <td>41</td>\n",
       "      <td>16.0</td>\n",
       "    </tr>\n",
       "    <tr>\n",
       "      <th>...</th>\n",
       "      <td>...</td>\n",
       "      <td>...</td>\n",
       "      <td>...</td>\n",
       "      <td>...</td>\n",
       "      <td>...</td>\n",
       "    </tr>\n",
       "    <tr>\n",
       "      <th>76</th>\n",
       "      <td>77</td>\n",
       "      <td>1</td>\n",
       "      <td>M</td>\n",
       "      <td>28</td>\n",
       "      <td>13.0</td>\n",
       "    </tr>\n",
       "    <tr>\n",
       "      <th>77</th>\n",
       "      <td>78</td>\n",
       "      <td>1</td>\n",
       "      <td>F</td>\n",
       "      <td>32</td>\n",
       "      <td>16.0</td>\n",
       "    </tr>\n",
       "    <tr>\n",
       "      <th>78</th>\n",
       "      <td>79</td>\n",
       "      <td>1</td>\n",
       "      <td>M</td>\n",
       "      <td>37</td>\n",
       "      <td>16.0</td>\n",
       "    </tr>\n",
       "    <tr>\n",
       "      <th>79</th>\n",
       "      <td>80</td>\n",
       "      <td>1</td>\n",
       "      <td>M</td>\n",
       "      <td>33</td>\n",
       "      <td>13.0</td>\n",
       "    </tr>\n",
       "    <tr>\n",
       "      <th>80</th>\n",
       "      <td>81</td>\n",
       "      <td>1</td>\n",
       "      <td>M</td>\n",
       "      <td>56</td>\n",
       "      <td>13.0</td>\n",
       "    </tr>\n",
       "  </tbody>\n",
       "</table>\n",
       "<p>81 rows × 5 columns</p>\n",
       "</div>"
      ],
      "text/plain": [
       "    subject   group  gender   age   education\n",
       "0         1       0       M    44        16.0\n",
       "1         2       0       M    39        17.0\n",
       "2         3       0       M    53        18.0\n",
       "3         4       0       M    52        15.0\n",
       "4         5       0       M    41        16.0\n",
       "..      ...     ...     ...   ...         ...\n",
       "76       77       1       M    28        13.0\n",
       "77       78       1       F    32        16.0\n",
       "78       79       1       M    37        16.0\n",
       "79       80       1       M    33        13.0\n",
       "80       81       1       M    56        13.0\n",
       "\n",
       "[81 rows x 5 columns]"
      ]
     },
     "execution_count": 4,
     "metadata": {},
     "output_type": "execute_result"
    }
   ],
   "source": [
    "demographic = pd.read_csv(\"../input/schizophrenia-dataset/archive/demographic.csv\")\n",
    "demographic"
   ]
  },
  {
   "cell_type": "code",
   "execution_count": 5,
   "metadata": {
    "execution": {
     "iopub.execute_input": "2023-04-15T04:56:38.850756Z",
     "iopub.status.busy": "2023-04-15T04:56:38.850336Z",
     "iopub.status.idle": "2023-04-15T04:56:38.866455Z",
     "shell.execute_reply": "2023-04-15T04:56:38.865129Z",
     "shell.execute_reply.started": "2023-04-15T04:56:38.850725Z"
    }
   },
   "outputs": [
    {
     "data": {
      "text/plain": [
       "1    49\n",
       "0    32\n",
       "Name:  group, dtype: int64"
      ]
     },
     "execution_count": 5,
     "metadata": {},
     "output_type": "execute_result"
    }
   ],
   "source": [
    "demographic[\" group\"].value_counts()"
   ]
  },
  {
   "cell_type": "code",
   "execution_count": 6,
   "metadata": {
    "execution": {
     "iopub.execute_input": "2023-04-15T04:56:41.224187Z",
     "iopub.status.busy": "2023-04-15T04:56:41.223824Z",
     "iopub.status.idle": "2023-04-15T04:56:41.231265Z",
     "shell.execute_reply": "2023-04-15T04:56:41.230097Z",
     "shell.execute_reply.started": "2023-04-15T04:56:41.224156Z"
    }
   },
   "outputs": [
    {
     "data": {
      "text/plain": [
       "0.6049382716049383"
      ]
     },
     "execution_count": 6,
     "metadata": {},
     "output_type": "execute_result"
    }
   ],
   "source": [
    "demographic[\" group\"].mean()"
   ]
  },
  {
   "cell_type": "code",
   "execution_count": 7,
   "metadata": {
    "execution": {
     "iopub.execute_input": "2023-04-15T04:56:43.308778Z",
     "iopub.status.busy": "2023-04-15T04:56:43.308401Z",
     "iopub.status.idle": "2023-04-15T04:56:43.315909Z",
     "shell.execute_reply": "2023-04-15T04:56:43.314783Z",
     "shell.execute_reply.started": "2023-04-15T04:56:43.308746Z"
    }
   },
   "outputs": [
    {
     "name": "stdout",
     "output_type": "stream",
     "text": [
      "0 - HEALTHY\n",
      "1 - HEALTHY\n",
      "2 - HEALTHY\n",
      "3 - HEALTHY\n",
      "4 - HEALTHY\n",
      "5 - HEALTHY\n",
      "6 - HEALTHY\n",
      "7 - HEALTHY\n",
      "8 - HEALTHY\n",
      "9 - HEALTHY\n",
      "10 - HEALTHY\n",
      "11 - HEALTHY\n",
      "12 - HEALTHY\n",
      "13 - HEALTHY\n",
      "14 - HEALTHY\n",
      "15 - HEALTHY\n",
      "16 - HEALTHY\n",
      "17 - HEALTHY\n",
      "18 - HEALTHY\n",
      "19 - HEALTHY\n",
      "20 - HEALTHY\n",
      "21 - HEALTHY\n",
      "22 - HEALTHY\n",
      "23 - HEALTHY\n",
      "24 - Schizophrenia\n",
      "25 - Schizophrenia\n",
      "26 - Schizophrenia\n",
      "27 - Schizophrenia\n",
      "28 - Schizophrenia\n",
      "29 - Schizophrenia\n",
      "30 - Schizophrenia\n",
      "31 - Schizophrenia\n",
      "32 - Schizophrenia\n",
      "33 - Schizophrenia\n",
      "34 - Schizophrenia\n",
      "35 - Schizophrenia\n",
      "36 - Schizophrenia\n",
      "37 - Schizophrenia\n",
      "38 - Schizophrenia\n",
      "39 - Schizophrenia\n",
      "40 - Schizophrenia\n",
      "41 - Schizophrenia\n",
      "42 - Schizophrenia\n",
      "43 - Schizophrenia\n",
      "44 - Schizophrenia\n",
      "45 - Schizophrenia\n",
      "46 - Schizophrenia\n",
      "47 - Schizophrenia\n",
      "48 - Schizophrenia\n",
      "49 - Schizophrenia\n",
      "50 - Schizophrenia\n",
      "51 - Schizophrenia\n",
      "52 - Schizophrenia\n",
      "53 - Schizophrenia\n",
      "54 - Schizophrenia\n",
      "55 - Schizophrenia\n",
      "56 - Schizophrenia\n",
      "57 - Schizophrenia\n",
      "58 - HEALTHY\n",
      "59 - HEALTHY\n",
      "60 - HEALTHY\n",
      "61 - HEALTHY\n",
      "62 - HEALTHY\n",
      "63 - HEALTHY\n",
      "64 - HEALTHY\n",
      "65 - HEALTHY\n",
      "66 - Schizophrenia\n",
      "67 - Schizophrenia\n",
      "68 - Schizophrenia\n",
      "69 - Schizophrenia\n",
      "70 - Schizophrenia\n",
      "71 - Schizophrenia\n",
      "72 - Schizophrenia\n",
      "73 - Schizophrenia\n",
      "74 - Schizophrenia\n",
      "75 - Schizophrenia\n",
      "76 - Schizophrenia\n",
      "77 - Schizophrenia\n",
      "78 - Schizophrenia\n",
      "79 - Schizophrenia\n",
      "80 - Schizophrenia\n"
     ]
    }
   ],
   "source": [
    "for i, t in enumerate(list(demographic[\" group\"])):\n",
    "    if t:\n",
    "        print(f\"{i} - Schizophrenia\")\n",
    "    else:\n",
    "        print(f\"{i} - HEALTHY\")"
   ]
  },
  {
   "cell_type": "code",
   "execution_count": 8,
   "metadata": {
    "execution": {
     "iopub.execute_input": "2023-04-15T04:56:47.016009Z",
     "iopub.status.busy": "2023-04-15T04:56:47.015496Z",
     "iopub.status.idle": "2023-04-15T04:56:47.023127Z",
     "shell.execute_reply": "2023-04-15T04:56:47.022185Z",
     "shell.execute_reply.started": "2023-04-15T04:56:47.015966Z"
    }
   },
   "outputs": [],
   "source": [
    "diagnosis_dict = dict(zip(demographic.subject, demographic[\" group\"]))\n",
    "del demographic #deleting demographic Variable"
   ]
  },
  {
   "cell_type": "code",
   "execution_count": 9,
   "metadata": {
    "execution": {
     "iopub.execute_input": "2023-04-15T04:56:49.714755Z",
     "iopub.status.busy": "2023-04-15T04:56:49.714368Z",
     "iopub.status.idle": "2023-04-15T04:56:49.742430Z",
     "shell.execute_reply": "2023-04-15T04:56:49.741497Z",
     "shell.execute_reply.started": "2023-04-15T04:56:49.714723Z"
    }
   },
   "outputs": [
    {
     "name": "stdout",
     "output_type": "stream",
     "text": [
      "Electrodes List \n",
      " ['Fp1', 'AF7', 'AF3', 'F1', 'F3', 'F5', 'F7', 'FT7', 'FC5', 'FC3', 'FC1', 'C1', 'C3', 'C5', 'T7', 'TP7', 'CP5', 'CP3', 'CP1', 'P1', 'P3', 'P5', 'P7', 'P9', 'PO7', 'PO3', 'O1', 'Iz', 'Oz', 'POz', 'Pz', 'CPz', 'Fpz', 'Fp2', 'AF8', 'AF4', 'AFz', 'Fz', 'F2', 'F4', 'F6', 'F8', 'FT8', 'FC6', 'FC4', 'FC2', 'FCz', 'Cz', 'C2', 'C4', 'C6', 'T8', 'TP8', 'CP6', 'CP4', 'CP2', 'P2', 'P4', 'P6', 'P8', 'P10', 'PO8', 'PO4', 'O2', 'VEOa', 'VEOb', 'HEOL', 'HEOR', 'Nose', 'TP10']\n"
     ]
    }
   ],
   "source": [
    "electrodes_list = list(pd.read_csv(\"../input/schizophrenia-dataset/archive/columnLabels.csv\").columns[4:])\n",
    "print(\"Electrodes List \\n\",electrodes_list)"
   ]
  },
  {
   "cell_type": "code",
   "execution_count": 10,
   "metadata": {
    "execution": {
     "iopub.execute_input": "2023-04-15T04:56:52.278994Z",
     "iopub.status.busy": "2023-04-15T04:56:52.278638Z",
     "iopub.status.idle": "2023-04-15T04:56:52.284942Z",
     "shell.execute_reply": "2023-04-15T04:56:52.283964Z",
     "shell.execute_reply.started": "2023-04-15T04:56:52.278965Z"
    }
   },
   "outputs": [],
   "source": [
    "def averaged_by_N_rows(a, n):\n",
    "    \"\"\" \n",
    "    A function that averages n rows in a matrix\n",
    "    \"\"\"\n",
    "    shape = a.shape\n",
    "    assert len(shape) == 2\n",
    "    assert shape[0] % n == 0\n",
    "    b = a.reshape(shape[0] // n, n, \n",
    "                  shape[1])\n",
    "    mean_vec = b.mean(axis=1)\n",
    "    return mean_vec"
   ]
  },
  {
   "cell_type": "code",
   "execution_count": 11,
   "metadata": {
    "execution": {
     "iopub.execute_input": "2023-04-15T04:56:57.985693Z",
     "iopub.status.busy": "2023-04-15T04:56:57.985280Z",
     "iopub.status.idle": "2023-04-15T05:16:09.543118Z",
     "shell.execute_reply": "2023-04-15T05:16:09.541878Z",
     "shell.execute_reply.started": "2023-04-15T04:56:57.985658Z"
    }
   },
   "outputs": [
    {
     "data": {
      "application/vnd.jupyter.widget-view+json": {
       "model_id": "d1b61d4f7bc8470fad796fb747227557",
       "version_major": 2,
       "version_minor": 0
      },
      "text/plain": [
       "  0%|          | 0/81 [00:00<?, ?it/s]"
      ]
     },
     "metadata": {},
     "output_type": "display_data"
    },
    {
     "name": "stdout",
     "output_type": "stream",
     "text": [
      "Total trials with the Appropriate number of measurements -  7092\n",
      "Total trials with the Appropriate number of measurements-  7092\n"
     ]
    }
   ],
   "source": [
    "N_AVERAGED = 16\n",
    "X = np.zeros((81 * 100,  9216 * len(electrodes_list) // N_AVERAGED), dtype=\"float32\")\n",
    "Y = np.zeros(len(X))\n",
    "\n",
    "part1_path = \"../input/schizophrenia-dataset/archive\"\n",
    "part2_path = \"../input/schizophrenia-dataset/archive (1)\"\n",
    "\n",
    "# We pull out only those experiments where there were 9216 measurements (most often named so many times)\n",
    "x_counter = 0\n",
    "column_list = pd.read_csv(\"../input/schizophrenia-dataset/archive/columnLabels.csv\").columns\n",
    "for person_number in tqdm(range(1, 81 + 1)):\n",
    "\n",
    "\n",
    "    csv_path = f\"{part1_path}/{person_number}.csv/{person_number}.csv\"\n",
    "    if not os.path.exists(csv_path):\n",
    "        csv_path = f\"{part2_path}/{person_number}.csv/{person_number}.csv\"\n",
    "    df = pd.read_csv(csv_path, \n",
    "                header=None,\n",
    "                names=column_list)\n",
    "    trials_list = set(df.trial)\n",
    "\n",
    "\n",
    "    for t1, trial_number in enumerate(trials_list):\n",
    "        number_of_trials = len(df[df.trial == trial_number])\n",
    "        if number_of_trials == 9216.0:\n",
    "            current_sample_matrix = df[df.trial == trial_number][electrodes_list].values\n",
    "            averaged_by_N = averaged_by_N_rows(current_sample_matrix, n=N_AVERAGED)\n",
    "            averaged_by_N_big_vec = averaged_by_N.reshape(-1)\n",
    "            X[x_counter] = averaged_by_N_big_vec.astype(np.float32)\n",
    "            Y[x_counter] = diagnosis_dict[person_number]\n",
    "            x_counter += 1\n",
    "print(\"Total trials with the Appropriate number of measurements - \", x_counter)\n",
    "X = X[: x_counter]\n",
    "Y = Y[: x_counter]\n",
    "print(\"Total trials with the Appropriate number of measurements- \", x_counter)"
   ]
  },
  {
   "cell_type": "code",
   "execution_count": 12,
   "metadata": {
    "execution": {
     "iopub.execute_input": "2023-04-15T05:18:29.543065Z",
     "iopub.status.busy": "2023-04-15T05:18:29.542684Z",
     "iopub.status.idle": "2023-04-15T05:18:29.549216Z",
     "shell.execute_reply": "2023-04-15T05:18:29.548201Z",
     "shell.execute_reply.started": "2023-04-15T05:18:29.543034Z"
    }
   },
   "outputs": [
    {
     "name": "stdout",
     "output_type": "stream",
     "text": [
      "(7092, 40320)\n",
      "(7092,)\n"
     ]
    }
   ],
   "source": [
    "print(X.shape)\n",
    "print(Y.shape)"
   ]
  },
  {
   "cell_type": "code",
   "execution_count": 13,
   "metadata": {
    "execution": {
     "iopub.execute_input": "2023-04-15T05:18:32.113406Z",
     "iopub.status.busy": "2023-04-15T05:18:32.112807Z",
     "iopub.status.idle": "2023-04-15T05:18:32.144229Z",
     "shell.execute_reply": "2023-04-15T05:18:32.142656Z",
     "shell.execute_reply.started": "2023-04-15T05:18:32.113359Z"
    }
   },
   "outputs": [
    {
     "data": {
      "text/plain": [
       "1.0    4235\n",
       "0.0    2857\n",
       "dtype: int64"
      ]
     },
     "execution_count": 13,
     "metadata": {},
     "output_type": "execute_result"
    }
   ],
   "source": [
    "df = pd.DataFrame(Y)\n",
    "df.value_counts()"
   ]
  },
  {
   "cell_type": "code",
   "execution_count": 14,
   "metadata": {
    "execution": {
     "iopub.execute_input": "2023-04-15T05:18:35.329901Z",
     "iopub.status.busy": "2023-04-15T05:18:35.329490Z",
     "iopub.status.idle": "2023-04-15T05:18:39.544524Z",
     "shell.execute_reply": "2023-04-15T05:18:39.543284Z",
     "shell.execute_reply.started": "2023-04-15T05:18:35.329868Z"
    }
   },
   "outputs": [],
   "source": [
    "from sklearn.feature_selection import SelectFdr\n",
    "X_New = SelectFdr().fit_transform(X, Y)"
   ]
  },
  {
   "cell_type": "code",
   "execution_count": 15,
   "metadata": {
    "execution": {
     "iopub.execute_input": "2023-04-15T05:18:41.065555Z",
     "iopub.status.busy": "2023-04-15T05:18:41.065185Z",
     "iopub.status.idle": "2023-04-15T05:18:41.071790Z",
     "shell.execute_reply": "2023-04-15T05:18:41.070643Z",
     "shell.execute_reply.started": "2023-04-15T05:18:41.065523Z"
    }
   },
   "outputs": [
    {
     "name": "stdout",
     "output_type": "stream",
     "text": [
      "(7092, 4589)\n"
     ]
    }
   ],
   "source": [
    "print(X_New.shape)"
   ]
  },
  {
   "cell_type": "code",
   "execution_count": 16,
   "metadata": {
    "execution": {
     "iopub.execute_input": "2023-04-15T05:18:43.281667Z",
     "iopub.status.busy": "2023-04-15T05:18:43.281249Z",
     "iopub.status.idle": "2023-04-15T05:18:43.287725Z",
     "shell.execute_reply": "2023-04-15T05:18:43.286189Z",
     "shell.execute_reply.started": "2023-04-15T05:18:43.281620Z"
    }
   },
   "outputs": [],
   "source": [
    "def Normalise(X):\n",
    "    min = np.min(X, axis = 0)\n",
    "    max = np.max(X, axis = 0)\n",
    "    return ((X-min)/(max-min))"
   ]
  },
  {
   "cell_type": "code",
   "execution_count": 17,
   "metadata": {
    "execution": {
     "iopub.execute_input": "2023-04-15T05:18:48.154305Z",
     "iopub.status.busy": "2023-04-15T05:18:48.153673Z",
     "iopub.status.idle": "2023-04-15T05:18:50.884305Z",
     "shell.execute_reply": "2023-04-15T05:18:50.883104Z",
     "shell.execute_reply.started": "2023-04-15T05:18:48.154267Z"
    }
   },
   "outputs": [
    {
     "name": "stdout",
     "output_type": "stream",
     "text": [
      "(7092, 50)\n"
     ]
    }
   ],
   "source": [
    "X_norm= Normalise(X_New)\n",
    "from sklearn.decomposition import PCA\n",
    "X_PCA = PCA(n_components=50)\n",
    "X_norm = X_PCA.fit_transform(X_norm)\n",
    "print(X_norm.shape)"
   ]
  },
  {
   "cell_type": "code",
   "execution_count": 18,
   "metadata": {
    "execution": {
     "iopub.execute_input": "2023-04-07T09:53:38.682789Z",
     "iopub.status.busy": "2023-04-07T09:53:38.682401Z",
     "iopub.status.idle": "2023-04-07T09:53:38.989690Z",
     "shell.execute_reply": "2023-04-07T09:53:38.988623Z",
     "shell.execute_reply.started": "2023-04-07T09:53:38.682750Z"
    }
   },
   "outputs": [],
   "source": [
    "X_norm.shape\n",
    "df = pd.DataFrame(X_norm)\n",
    "df.to_csv(\"X.csv\", index = False, header = False)"
   ]
  },
  {
   "cell_type": "code",
   "execution_count": 19,
   "metadata": {
    "execution": {
     "iopub.execute_input": "2023-04-07T09:53:38.991902Z",
     "iopub.status.busy": "2023-04-07T09:53:38.991422Z",
     "iopub.status.idle": "2023-04-07T09:53:39.009441Z",
     "shell.execute_reply": "2023-04-07T09:53:39.008320Z",
     "shell.execute_reply.started": "2023-04-07T09:53:38.991858Z"
    }
   },
   "outputs": [
    {
     "name": "stdout",
     "output_type": "stream",
     "text": [
      "(7092,)\n"
     ]
    }
   ],
   "source": [
    "print(Y.shape)\n",
    "df1 = pd.DataFrame(Y)\n",
    "df1.to_csv(\"y_1.csv\", index = False, header = False)"
   ]
  },
  {
   "cell_type": "code",
   "execution_count": 113,
   "metadata": {
    "execution": {
     "iopub.execute_input": "2023-04-15T05:48:00.298955Z",
     "iopub.status.busy": "2023-04-15T05:48:00.298522Z",
     "iopub.status.idle": "2023-04-15T05:48:00.307042Z",
     "shell.execute_reply": "2023-04-15T05:48:00.305652Z",
     "shell.execute_reply.started": "2023-04-15T05:48:00.298919Z"
    }
   },
   "outputs": [],
   "source": [
    "#X_norm= Normalise(X_New)\n",
    "X_train_norm, X_test_norm, Y_train_norm, Y_test_norm = train_test_split(X_norm, Y, test_size=0.2, shuffle=True, random_state=42)"
   ]
  },
  {
   "cell_type": "code",
   "execution_count": 85,
   "metadata": {
    "execution": {
     "iopub.execute_input": "2023-04-15T05:34:46.514223Z",
     "iopub.status.busy": "2023-04-15T05:34:46.513499Z",
     "iopub.status.idle": "2023-04-15T05:34:46.520999Z",
     "shell.execute_reply": "2023-04-15T05:34:46.519758Z",
     "shell.execute_reply.started": "2023-04-15T05:34:46.514185Z"
    }
   },
   "outputs": [
    {
     "data": {
      "text/plain": [
       "(4964, 50)"
      ]
     },
     "execution_count": 85,
     "metadata": {},
     "output_type": "execute_result"
    }
   ],
   "source": [
    "X_train_norm.shape"
   ]
  },
  {
   "cell_type": "code",
   "execution_count": 26,
   "metadata": {
    "execution": {
     "iopub.execute_input": "2023-04-15T05:21:48.432495Z",
     "iopub.status.busy": "2023-04-15T05:21:48.432087Z",
     "iopub.status.idle": "2023-04-15T05:21:48.437110Z",
     "shell.execute_reply": "2023-04-15T05:21:48.436103Z",
     "shell.execute_reply.started": "2023-04-15T05:21:48.432446Z"
    }
   },
   "outputs": [],
   "source": [
    "from sklearn.svm import SVC\n",
    "from sklearn import metrics"
   ]
  },
  {
   "cell_type": "code",
   "execution_count": 31,
   "metadata": {
    "execution": {
     "iopub.execute_input": "2023-04-15T05:23:56.135669Z",
     "iopub.status.busy": "2023-04-15T05:23:56.135250Z",
     "iopub.status.idle": "2023-04-15T05:23:58.610466Z",
     "shell.execute_reply": "2023-04-15T05:23:58.609361Z",
     "shell.execute_reply.started": "2023-04-15T05:23:56.135633Z"
    }
   },
   "outputs": [
    {
     "name": "stdout",
     "output_type": "stream",
     "text": [
      "Accuracy: 0.66 F1 Score: 0.76\n"
     ]
    }
   ],
   "source": [
    "clf = SVC(kernel='rbf')\n",
    "clf.fit(X_train_norm, Y_train_norm)\n",
    "y_pred = clf.predict(X_test_norm)\n",
    "print(\"Accuracy:\",\"{:.2f}\".format(metrics.accuracy_score(Y_test_norm, y_pred)), \"F1 Score:\",\"{:.2f}\".format(metrics.f1_score(Y_test_norm, y_pred)) )"
   ]
  },
  {
   "cell_type": "code",
   "execution_count": 32,
   "metadata": {
    "execution": {
     "iopub.execute_input": "2023-04-15T05:24:04.339089Z",
     "iopub.status.busy": "2023-04-15T05:24:04.338730Z",
     "iopub.status.idle": "2023-04-15T05:24:06.408789Z",
     "shell.execute_reply": "2023-04-15T05:24:06.407679Z",
     "shell.execute_reply.started": "2023-04-15T05:24:04.339059Z"
    }
   },
   "outputs": [
    {
     "name": "stdout",
     "output_type": "stream",
     "text": [
      "Accuracy: 0.59 F1 Score: 0.74\n",
      "None\n"
     ]
    }
   ],
   "source": [
    "clf2 = SVC(kernel='linear')\n",
    "clf2.fit(X_train_norm, Y_train_norm)\n",
    "y_pred2 = clf2.predict(X_test_norm)\n",
    "print(\"Accuracy:\",\"{:.2f}\".format(metrics.accuracy_score(Y_test_norm, y_pred2)), \"F1 Score:\",\"{:.2f}\".format(metrics.f1_score(Y_test_norm, y_pred2)) )"
   ]
  },
  {
   "cell_type": "code",
   "execution_count": 33,
   "metadata": {
    "execution": {
     "iopub.execute_input": "2023-04-15T05:24:09.523635Z",
     "iopub.status.busy": "2023-04-15T05:24:09.522947Z",
     "iopub.status.idle": "2023-04-15T05:24:11.604696Z",
     "shell.execute_reply": "2023-04-15T05:24:11.603298Z",
     "shell.execute_reply.started": "2023-04-15T05:24:09.523565Z"
    }
   },
   "outputs": [
    {
     "name": "stdout",
     "output_type": "stream",
     "text": [
      "Accuracy: 0.60 F1 Score: 0.74\n"
     ]
    }
   ],
   "source": [
    "clf3 = SVC(kernel='poly')\n",
    "clf3.fit(X_train_norm, Y_train_norm)\n",
    "y_pred3 = clf3.predict(X_test_norm)\n",
    "print(\"Accuracy:\",\"{:.2f}\".format(metrics.accuracy_score(Y_test_norm, y_pred3)), \"F1 Score:\",\"{:.2f}\".format(metrics.f1_score(Y_test_norm, y_pred3)) )"
   ]
  },
  {
   "cell_type": "code",
   "execution_count": 34,
   "metadata": {
    "execution": {
     "iopub.execute_input": "2023-04-15T05:24:28.269539Z",
     "iopub.status.busy": "2023-04-15T05:24:28.268707Z",
     "iopub.status.idle": "2023-04-15T05:24:28.323644Z",
     "shell.execute_reply": "2023-04-15T05:24:28.322257Z",
     "shell.execute_reply.started": "2023-04-15T05:24:28.269497Z"
    }
   },
   "outputs": [
    {
     "name": "stdout",
     "output_type": "stream",
     "text": [
      "Accuracy: 0.63 F1 Score: 0.74\n"
     ]
    }
   ],
   "source": [
    "from sklearn.linear_model import LogisticRegression\n",
    "logistic_model=LogisticRegression() # using default  solver lfbs\n",
    "logistic_model.fit(X_train_norm, Y_train_norm)\n",
    "y_pred4 = logistic_model.predict(X_test_norm)\n",
    "print(\"Accuracy:\",\"{:.2f}\".format(metrics.accuracy_score(Y_test_norm, y_pred4)), \"F1 Score:\",\"{:.2f}\".format(metrics.f1_score(Y_test_norm, y_pred4)) )"
   ]
  },
  {
   "cell_type": "code",
   "execution_count": 30,
   "metadata": {
    "execution": {
     "iopub.execute_input": "2023-04-07T09:58:24.671676Z",
     "iopub.status.busy": "2023-04-07T09:58:24.671277Z",
     "iopub.status.idle": "2023-04-07T09:58:24.685229Z",
     "shell.execute_reply": "2023-04-07T09:58:24.684024Z",
     "shell.execute_reply.started": "2023-04-07T09:58:24.671618Z"
    }
   },
   "outputs": [
    {
     "data": {
      "text/plain": [
       "array([[ 233,  633],\n",
       "       [ 160, 1102]])"
      ]
     },
     "execution_count": 30,
     "metadata": {},
     "output_type": "execute_result"
    }
   ],
   "source": [
    "a=(confusion_matrix(Y_test_norm,y_pred4))\n",
    "a"
   ]
  },
  {
   "cell_type": "code",
   "execution_count": 109,
   "metadata": {
    "execution": {
     "iopub.execute_input": "2023-04-15T05:45:53.663724Z",
     "iopub.status.busy": "2023-04-15T05:45:53.663314Z",
     "iopub.status.idle": "2023-04-15T05:45:54.164511Z",
     "shell.execute_reply": "2023-04-15T05:45:54.162727Z",
     "shell.execute_reply.started": "2023-04-15T05:45:53.663690Z"
    }
   },
   "outputs": [],
   "source": [
    "from sklearn.tree import DecisionTreeClassifier\n",
    "dt_en=DecisionTreeClassifier(criterion='entropy')\n",
    "dt_en.fit(X_train_norm,Y_train_norm) \n",
    "y_pred5=dt_en.predict(X_test_norm)"
   ]
  },
  {
   "cell_type": "code",
   "execution_count": 110,
   "metadata": {
    "execution": {
     "iopub.execute_input": "2023-04-15T05:45:58.143134Z",
     "iopub.status.busy": "2023-04-15T05:45:58.142723Z",
     "iopub.status.idle": "2023-04-15T05:45:58.155825Z",
     "shell.execute_reply": "2023-04-15T05:45:58.154648Z",
     "shell.execute_reply.started": "2023-04-15T05:45:58.143098Z"
    }
   },
   "outputs": [
    {
     "name": "stdout",
     "output_type": "stream",
     "text": [
      "Accuracy: 0.57 F1 Score: 0.64\n"
     ]
    }
   ],
   "source": [
    "print(\"Accuracy:\",\"{:.2f}\".format(metrics.accuracy_score(Y_test_norm, y_pred5)), \"F1 Score:\",\"{:.2f}\".format(metrics.f1_score(Y_test_norm, y_pred5)) )"
   ]
  },
  {
   "cell_type": "code",
   "execution_count": 94,
   "metadata": {
    "execution": {
     "iopub.execute_input": "2023-04-15T05:39:30.293306Z",
     "iopub.status.busy": "2023-04-15T05:39:30.292524Z",
     "iopub.status.idle": "2023-04-15T05:39:30.346653Z",
     "shell.execute_reply": "2023-04-15T05:39:30.345397Z",
     "shell.execute_reply.started": "2023-04-15T05:39:30.293267Z"
    }
   },
   "outputs": [
    {
     "name": "stdout",
     "output_type": "stream",
     "text": [
      "Accuracy: 0.74\n"
     ]
    }
   ],
   "source": [
    "logr1=LogisticRegression(solver='liblinear') \n",
    "logistic_model=LogisticRegression() # using default  solver lfbs\n",
    "logistic_model.fit(X_train_norm, Y_train_norm)\n",
    "y_pred4 = logistic_model.predict(X_test_norm)\n",
    "print(\"Accuracy:\",\"{:.2f}\".format(metrics.accuracy_score(Y_test_norm, y_pred4)))"
   ]
  },
  {
   "cell_type": "code",
   "execution_count": 116,
   "metadata": {
    "execution": {
     "iopub.execute_input": "2023-04-15T05:48:19.573379Z",
     "iopub.status.busy": "2023-04-15T05:48:19.572997Z",
     "iopub.status.idle": "2023-04-15T05:48:23.173738Z",
     "shell.execute_reply": "2023-04-15T05:48:23.172648Z",
     "shell.execute_reply.started": "2023-04-15T05:48:19.573350Z"
    }
   },
   "outputs": [],
   "source": [
    "from sklearn.ensemble import BaggingClassifier\n",
    "from sklearn.tree import DecisionTreeClassifier\n",
    "#X_train,X_test,Y_train,Y_test =train_test_split(X_norm, Y, test_size = 0.2) # by default split size is 75 25\n",
    "bag_dt = BaggingClassifier(DecisionTreeClassifier(max_depth = 3), n_estimators = 50)\n",
    "bag_dt.fit(X_train_norm,Y_train_norm)\n",
    "y_pred5 = bag_dt.predict(X_test_norm)"
   ]
  },
  {
   "cell_type": "code",
   "execution_count": 71,
   "metadata": {
    "execution": {
     "iopub.execute_input": "2023-04-15T05:31:46.628278Z",
     "iopub.status.busy": "2023-04-15T05:31:46.627574Z",
     "iopub.status.idle": "2023-04-15T05:31:46.660492Z",
     "shell.execute_reply": "2023-04-15T05:31:46.659302Z",
     "shell.execute_reply.started": "2023-04-15T05:31:46.628243Z"
    }
   },
   "outputs": [
    {
     "data": {
      "text/plain": [
       "0.5990133897110641"
      ]
     },
     "execution_count": 71,
     "metadata": {},
     "output_type": "execute_result"
    }
   ],
   "source": [
    "bag_dt.score(X_test,Y_test)"
   ]
  },
  {
   "cell_type": "code",
   "execution_count": 117,
   "metadata": {
    "execution": {
     "iopub.execute_input": "2023-04-15T05:48:23.176419Z",
     "iopub.status.busy": "2023-04-15T05:48:23.175974Z",
     "iopub.status.idle": "2023-04-15T05:48:23.188696Z",
     "shell.execute_reply": "2023-04-15T05:48:23.187269Z",
     "shell.execute_reply.started": "2023-04-15T05:48:23.176376Z"
    }
   },
   "outputs": [
    {
     "name": "stdout",
     "output_type": "stream",
     "text": [
      "Accuracy: 0.61 F1 Score: 0.74\n"
     ]
    }
   ],
   "source": [
    "print(\"Accuracy:\",\"{:.2f}\".format(metrics.accuracy_score(Y_test_norm, y_pred5)), \"F1 Score:\",\"{:.2f}\".format(metrics.f1_score(Y_test_norm, y_pred5)) )"
   ]
  },
  {
   "cell_type": "markdown",
   "metadata": {},
   "source": []
  },
  {
   "cell_type": "code",
   "execution_count": 105,
   "metadata": {
    "execution": {
     "iopub.execute_input": "2023-04-15T05:42:13.549842Z",
     "iopub.status.busy": "2023-04-15T05:42:13.548920Z",
     "iopub.status.idle": "2023-04-15T05:42:16.306578Z",
     "shell.execute_reply": "2023-04-15T05:42:16.305596Z",
     "shell.execute_reply.started": "2023-04-15T05:42:13.549792Z"
    }
   },
   "outputs": [],
   "source": [
    "from sklearn.neighbors import KNeighborsClassifier \n",
    "bag_knn=BaggingClassifier(KNeighborsClassifier())\n",
    "bag_knn.fit(X_train_norm,Y_train_norm)\n",
    "y_pred6 = bag_knn.predict(X_test_norm)"
   ]
  },
  {
   "cell_type": "code",
   "execution_count": 108,
   "metadata": {
    "execution": {
     "iopub.execute_input": "2023-04-15T05:44:00.856314Z",
     "iopub.status.busy": "2023-04-15T05:44:00.855952Z",
     "iopub.status.idle": "2023-04-15T05:44:00.868058Z",
     "shell.execute_reply": "2023-04-15T05:44:00.866464Z",
     "shell.execute_reply.started": "2023-04-15T05:44:00.856281Z"
    }
   },
   "outputs": [
    {
     "name": "stdout",
     "output_type": "stream",
     "text": [
      "Accuracy: 0.57 F1 Score: 0.66\n"
     ]
    }
   ],
   "source": [
    "print(\"Accuracy:\",\"{:.2f}\".format(metrics.accuracy_score(Y_test_norm, y_pred6)), \"F1 Score:\",\"{:.2f}\".format(metrics.f1_score(Y_test_norm, y_pred6)) )"
   ]
  },
  {
   "cell_type": "code",
   "execution_count": 107,
   "metadata": {
    "execution": {
     "iopub.execute_input": "2023-04-15T05:43:58.610080Z",
     "iopub.status.busy": "2023-04-15T05:43:58.609697Z",
     "iopub.status.idle": "2023-04-15T05:43:58.780763Z",
     "shell.execute_reply": "2023-04-15T05:43:58.779800Z",
     "shell.execute_reply.started": "2023-04-15T05:43:58.610049Z"
    }
   },
   "outputs": [],
   "source": [
    "from sklearn.ensemble import RandomForestClassifier\n",
    "rf=RandomForestClassifier(n_estimators=5)\n",
    "rf.fit(X_train_norm,Y_train_norm)\n",
    "y_pred6 = rf.predict(X_test_norm)"
   ]
  },
  {
   "cell_type": "code",
   "execution_count": null,
   "metadata": {},
   "outputs": [],
   "source": []
  }
 ],
 "metadata": {
  "kernelspec": {
   "display_name": "Python 3",
   "language": "python",
   "name": "python3"
  },
  "language_info": {
   "codemirror_mode": {
    "name": "ipython",
    "version": 3
   },
   "file_extension": ".py",
   "mimetype": "text/x-python",
   "name": "python",
   "nbconvert_exporter": "python",
   "pygments_lexer": "ipython3",
   "version": "3.8.8"
  }
 },
 "nbformat": 4,
 "nbformat_minor": 4
}
